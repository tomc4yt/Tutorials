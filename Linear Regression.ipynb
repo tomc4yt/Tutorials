{
 "cells": [
  {
   "cell_type": "markdown",
   "metadata": {},
   "source": [
    "#Linear Regression\n",
    "\n",
    "###What is Linear Regression?\n",
    "\n",
    "Linear regression is a modeling technique for a linear relationship between a dependent variable and one or many independent variables. the most common method for applying this model is what's called Ordinary Least Squared Linear Regression, it's a type of linear regression that finds the best fit line by minimizing the sum of differences from what is predicted using the model and what is actually observed. What does this mean mathmatically?\n",
    "\n",
    "We are trying to find the parameters for the following equation...\n",
    "\n",
    "$$y_{i} = \\beta_{0} + \\beta_{1}x_{1} + \\varepsilon$$ \n",
    "\n",
    "While minimizing residuals ε\n",
    "\n",
    "\n",
    "\n",
    "The B's are the parameters we are looking for. The x's are our independent variable which have some effect(measured by B) on our dependent variables. The e is our residuals, it measures how far off our estimate are from the actual data. The OLS algorithm will find the optimum parameters for our model by minimizing e. Remember, Linear regression is not a tool to summarise the data we have, it's for predicting the data we don't have. A successful linear model should be able to predict new values of y using x with minimal e. "
   ]
  },
  {
   "cell_type": "markdown",
   "metadata": {},
   "source": [
    "###Should I use Linear Regression?\n",
    "\n",
    "Now that we understand Linear Regression we need to know if we should be using it. Linear Regression is commonly used in a case where a linear relationship is suspected between one continuous dependent variable and one or many continuous dependent variables. There are many types of Linear Regression models to use for all different situation but for the sake of this tutorial we'll keep it simple and continue using the OLS Linear Regression. "
   ]
  },
  {
   "cell_type": "markdown",
   "metadata": {},
   "source": [
    "###Setup\n",
    "\n",
    "For this Tutorial I'm going to use scikit-learn which not only has a great library for data science but also some great built in data sets. "
   ]
  },
  {
   "cell_type": "code",
   "execution_count": 41,
   "metadata": {
    "collapsed": false
   },
   "outputs": [],
   "source": [
    "import pandas as pd\n",
    "import numpy as np\n",
    "import matplotlib.pyplot as mpl\n",
    "from ggplot import *\n",
    "\n",
    "%matplotlib inline"
   ]
  },
  {
   "cell_type": "markdown",
   "metadata": {},
   "source": [
    "##The Analysis\n",
    "\n",
    "###First look into the data\n",
    "\n",
    "Before I do any actual modelling I'm going to take a peak at the data using the pandas library as well as some ggplot graphics."
   ]
  },
  {
   "cell_type": "code",
   "execution_count": 16,
   "metadata": {
    "collapsed": false
   },
   "outputs": [
    {
     "data": {
      "text/html": [
       "<div style=\"max-height:1000px;max-width:1500px;overflow:auto;\">\n",
       "<table border=\"1\" class=\"dataframe\">\n",
       "  <thead>\n",
       "    <tr style=\"text-align: right;\">\n",
       "      <th></th>\n",
       "      <th>setting</th>\n",
       "      <th>effort</th>\n",
       "      <th>change</th>\n",
       "    </tr>\n",
       "  </thead>\n",
       "  <tbody>\n",
       "    <tr>\n",
       "      <th>Bolivia</th>\n",
       "      <td> 46</td>\n",
       "      <td>  0</td>\n",
       "      <td>  1</td>\n",
       "    </tr>\n",
       "    <tr>\n",
       "      <th>Brazil</th>\n",
       "      <td> 74</td>\n",
       "      <td>  0</td>\n",
       "      <td> 10</td>\n",
       "    </tr>\n",
       "    <tr>\n",
       "      <th>Chile</th>\n",
       "      <td> 89</td>\n",
       "      <td> 16</td>\n",
       "      <td> 29</td>\n",
       "    </tr>\n",
       "    <tr>\n",
       "      <th>Colombia</th>\n",
       "      <td> 77</td>\n",
       "      <td> 16</td>\n",
       "      <td> 25</td>\n",
       "    </tr>\n",
       "    <tr>\n",
       "      <th>CostaRica</th>\n",
       "      <td> 84</td>\n",
       "      <td> 21</td>\n",
       "      <td> 29</td>\n",
       "    </tr>\n",
       "  </tbody>\n",
       "</table>\n",
       "</div>"
      ],
      "text/plain": [
       "           setting  effort  change\n",
       "Bolivia         46       0       1\n",
       "Brazil          74       0      10\n",
       "Chile           89      16      29\n",
       "Colombia        77      16      25\n",
       "CostaRica       84      21      29"
      ]
     },
     "execution_count": 16,
     "metadata": {},
     "output_type": "execute_result"
    }
   ],
   "source": [
    "family_plan = pd.read_table(\"https://raw.githubusercontent.com/tomc4yt/Data/master/effort.dat\", sep=\"\\s+\")\n",
    "data.head()"
   ]
  },
  {
   "cell_type": "markdown",
   "metadata": {},
   "source": [
    "###Scatterplot"
   ]
  },
  {
   "cell_type": "code",
   "execution_count": 40,
   "metadata": {
    "collapsed": false
   },
   "outputs": [
    {
     "data": {
      "image/png": "[encoded data removed]",
      "text/plain": [
       "<matplotlib.figure.Figure at 0x1edccf60>"
      ]
     },
     "metadata": {},
     "output_type": "display_data"
    },
    {
     "name": "stdout",
     "output_type": "stream",
     "text": [
      "<ggplot: (32361697)>\n"
     ]
    }
   ],
   "source": [
    "plot = ggplot(family_plan, aes('effort','change')) + \\\n",
    "    geom_point(color = 'blue')\n",
    "print(plot)"
   ]
  },
  {
   "cell_type": "markdown",
   "metadata": {},
   "source": [
    "###Creating our Linear Regression Model in scikit-learn"
   ]
  },
  {
   "cell_type": "code",
   "execution_count": 43,
   "metadata": {
    "collapsed": false
   },
   "outputs": [],
   "source": [
    "from sklearn import linear_model"
   ]
  },
  {
   "cell_type": "code",
   "execution_count": 70,
   "metadata": {
    "collapsed": false
   },
   "outputs": [
    {
     "data": {
      "text/plain": [
       "{'copy_X': True, 'fit_intercept': True, 'normalize': False}"
      ]
     },
     "execution_count": 70,
     "metadata": {},
     "output_type": "execute_result"
    }
   ],
   "source": [
    "lin_reg = linear_model.LinearRegression()\n",
    "lin_reg.fit(family_plan.effort.values.astype(float).reshape(np.size(family_plan.change),1), \\\n",
    "            family_plan.change.values.astype(float))\n",
    "\n",
    "lin_reg.get_params()"
   ]
  },
  {
   "cell_type": "markdown",
   "metadata": {},
   "source": [
    "**Oh my gosh!! What is going on with the fit function!**\n",
    "\n",
    "Don't worry I'll explain it all. "
   ]
  },
  {
   "cell_type": "code",
   "execution_count": 89,
   "metadata": {
    "collapsed": false
   },
   "outputs": [
    {
     "name": "stdout",
     "output_type": "stream",
     "text": [
      "Coefficients: \n",
      "1.25278175354\n",
      "Residual sum of squares: -322.70\n"
     ]
    }
   ],
   "source": [
    "# The coefficients\n",
    "print 'Coefficients: \\n' + str(lin_reg.coef_[0])\n",
    "\n",
    "# Residuals\n",
    "print(\"Residual sum of squares: %.2f\"\n",
    "      % np.mean((lin_reg.predict(family_plan.effort.values.astype(float).reshape(np.size(family_plan.effort), 1)) - family_plan.change.values.astype(float) ** 2))\n"
   ]
  },
  {
   "cell_type": "code",
   "execution_count": 88,
   "metadata": {
    "collapsed": false
   },
   "outputs": [
    {
     "data": {
      "text/plain": [
       "-322.69999999999993"
      ]
     },
     "execution_count": 88,
     "metadata": {},
     "output_type": "execute_result"
    }
   ],
   "source": []
  },
  {
   "cell_type": "markdown",
   "metadata": {},
   "source": []
  },
  {
   "cell_type": "code",
   "execution_count": 77,
   "metadata": {
    "collapsed": false
   },
   "outputs": [
    {
     "name": "stdout",
     "output_type": "stream",
     "text": [
      "Coefficients: \n",
      "1.25278175354\n"
     ]
    }
   ],
   "source": []
  },
  {
   "cell_type": "markdown",
   "metadata": {},
   "source": [
    "##Assumptions\n",
    "\n",
    "Homoskedasticity: In laymens terms, equal variance throughout the "
   ]
  },
  {
   "cell_type": "code",
   "execution_count": 65,
   "metadata": {
    "collapsed": false
   },
   "outputs": [
    {
     "ename": "AttributeError",
     "evalue": "'list' object has no attribute 'shape'",
     "output_type": "error",
     "traceback": [
      "\u001b[1;31m---------------------------------------------------------------------------\u001b[0m",
      "\u001b[1;31mAttributeError\u001b[0m                            Traceback (most recent call last)",
      "\u001b[1;32m<ipython-input-65-e323aa995779>\u001b[0m in \u001b[0;36m<module>\u001b[1;34m()\u001b[0m\n\u001b[1;32m----> 1\u001b[1;33m \u001b[1;33m[\u001b[0m\u001b[1;36m1\u001b[0m\u001b[1;33m,\u001b[0m\u001b[1;36m2\u001b[0m\u001b[1;33m,\u001b[0m\u001b[1;36m3\u001b[0m\u001b[1;33m]\u001b[0m\u001b[1;33m.\u001b[0m\u001b[0mshape\u001b[0m\u001b[1;33m\u001b[0m\u001b[0m\n\u001b[0m",
      "\u001b[1;31mAttributeError\u001b[0m: 'list' object has no attribute 'shape'"
     ]
    }
   ],
   "source": []
  },
  {
   "cell_type": "code",
   "execution_count": null,
   "metadata": {
    "collapsed": true
   },
   "outputs": [],
   "source": []
  }
 ],
 "metadata": {
  "kernelspec": {
   "display_name": "Python 2",
   "language": "python",
   "name": "python2"
  },
  "language_info": {
   "codemirror_mode": {
    "name": "ipython",
    "version": 2
   },
   "file_extension": ".py",
   "mimetype": "text/x-python",
   "name": "python",
   "nbconvert_exporter": "python",
   "pygments_lexer": "ipython2",
   "version": "2.7.9"
  }
 },
 "nbformat": 4,
 "nbformat_minor": 0
}
