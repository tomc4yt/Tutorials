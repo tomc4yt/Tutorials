{
 "cells": [
  {
   "cell_type": "markdown",
   "metadata": {},
   "source": [
    "#Principal Component Analysis: The Hard Way\n",
    "\n",
    "Principal Component Analysis (PCA) is a type of dimensionality reduction using linear transformation. PCA reduces dimensison by exploiting patterns amongst dimensions (or variables) while minimizing information loss. Essentially we are trying to project a difficult to analyze $d$-dimensional onto a more simple to analyze $k$-dimensional subspace. \n",
    "\n",
    "Applications:\n",
    "\n",
    "Process: \n",
    "\n",
    "Step 1] Remove class labels for data set\n",
    "\n",
    "Step 2]\n",
    "\n"
   ]
  }
 ],
 "metadata": {
  "kernelspec": {
   "display_name": "Python 3",
   "language": "python",
   "name": "python3"
  },
  "language_info": {
   "codemirror_mode": {
    "name": "ipython",
    "version": 3
   },
   "file_extension": ".py",
   "mimetype": "text/x-python",
   "name": "python",
   "nbconvert_exporter": "python",
   "pygments_lexer": "ipython3",
   "version": "3.4.3"
  }
 },
 "nbformat": 4,
 "nbformat_minor": 0
}
