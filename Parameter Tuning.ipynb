{
 "cells": [
  {
   "cell_type": "markdown",
   "metadata": {},
   "source": [
    "#Parameter Tuning \n",
    "\n",
    "###Machine Learning and Model Development\n",
    "\n",
    "I recent read an article on LinkedIn about how Data Scientists will be obsolete, unfortunately I can't find it. The authors argument for the downfall of Data Scientist is that new advances in technology allow model creaters to run a simple function and create a model. For example you click a button for Regression Trees and get a great model for predicting an event. \n",
    "\n",
    "Now this is obviously wrong? Why...because of Parameter Tuning (Amongst other things of course!). Parameter tuning is the processes of selecting the appropriate parameters for a model. Examples:\n",
    "\n",
    "**Principal Component Analysis (PCA\"**: PCA as well as many other dimensionality reduction problem require you to specify the number of dimensions you want to reduce to? But how do you find that number (parameter)? Parameter Tuning.\n",
    "\n",
    "**k-Nearest-Neighbor (kNN)**: Implementing this machine learning algorithm requires you to speciy the parameter k, or the number of centriods. \n",
    "\n",
    "The **goal** of parameter tuning is to optimize the parameters so the algorithm performs the best.\n",
    "\n",
    "\n",
    "###Methods of Parameter Tuning\n",
    "\n",
    "\n",
    "\n"
   ]
  }
 ],
 "metadata": {
  "kernelspec": {
   "display_name": "Python 3",
   "language": "python",
   "name": "python3"
  },
  "language_info": {
   "codemirror_mode": {
    "name": "ipython",
    "version": 3
   },
   "file_extension": ".py",
   "mimetype": "text/x-python",
   "name": "python",
   "nbconvert_exporter": "python",
   "pygments_lexer": "ipython3",
   "version": "3.4.3"
  }
 },
 "nbformat": 4,
 "nbformat_minor": 0
}
