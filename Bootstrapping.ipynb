{
 "cells": [
  {
   "cell_type": "markdown",
   "metadata": {},
   "source": [
    "#Bootstrap: What's the point?\n",
    "\n",
    "I recently stumbled accross an interesting questions asked on Cross Validated [http://stats.stackexchange.com/questions/26088/explaining-to-laypeople-why-bootstrapping-works]\n",
    "\n",
    "The Original Poster remarked that although they had spend hours understanding how to perform statistical boostrapping they were unable to answer a question by a client on why bootstrapping works.\n",
    "\n",
    "**Their Questions**\n",
    "\"...if we are resampling from our sample, how is it that we are learning something about the population rather than only about the sample? There seems to be a leap there which is somewhat counter-intuitive.\"\n",
    "\n"
   ]
  },
  {
   "cell_type": "markdown",
   "metadata": {},
   "source": [
    "#Answer\n",
    "\n",
    "###Why Resample\n",
    "\n",
    "Say you want to find out information on a population. Analyzing the entire population may be infeasable for any number of reasons, so you need to take a sample and infer population statistics from sample statistics. \n",
    "\n",
    "###Conventional resampling\n",
    "\n",
    "One way you might learn about this is to take samples from the population again and again.\n",
    "\n",
    "Imagine you decide to make assumptions, e.g. that it is Normal, or Bernoulli or some other convenient fiction. Making this assumption allows you to understand what part of the population data your sample data encompasses. \n",
    "\n",
    "This seems like a good idea provided you are happy with the assumptions you made about the population. (It's distribution, e.g. Normal, Poisson, and the parameters)\n",
    "\n",
    "####Let us look at an example..."
   ]
  },
  {
   "cell_type": "code",
   "execution_count": 19,
   "metadata": {
    "collapsed": false
   },
   "outputs": [],
   "source": [
    "import numpy as np\n",
    "import pandas as pd\n",
    "import matplotlib.pyplot as plt\n",
    "import ggplot\n",
    "%matplotlib inline"
   ]
  },
  {
   "cell_type": "code",
   "execution_count": 32,
   "metadata": {
    "collapsed": false
   },
   "outputs": [
    {
     "name": "stdout",
     "output_type": "stream",
     "text": [
      "Sample Size = 100\n",
      "Sample Mean = 99\n",
      "Sample Standard Deviation = 10\n"
     ]
    },
    {
     "data": {
      "text/plain": [
       "<function matplotlib.pyplot.show>"
      ]
     },
     "execution_count": 32,
     "metadata": {},
     "output_type": "execute_result"
    },
    {
     "data": {
      "image/png": "[encoded data removed]",
      "text/plain": [
       "<matplotlib.figure.Figure at 0x209ce470>"
      ]
     },
     "metadata": {},
     "output_type": "display_data"
    }
   ],
   "source": [
    "# Building the sample and plotting\n",
    "sample = np.random.normal(loc = 100, scale = 10, size = 100)\n",
    "n, bins, patches = plt.hist(population, bins = 20, alpha = .2, color = \"black\") \n",
    "sample_mean = np.mean(sample)\n",
    "sample_stdev = np.std(sample)\n",
    "sample_size = np.size(sample)\n",
    "print(\"Sample Size = %d\" % sample_size)\n",
    "print(\"Sample Mean = %d\" % sample_mean)\n",
    "print(\"Sample Standard Deviation = %d\" % sample_stdev)\n",
    "\n",
    "plt.show"
   ]
  },
  {
   "cell_type": "markdown",
   "metadata": {},
   "source": [
    "Oh man this is great...my sample looks like it follows a normal distribution with: mean = 100, and standard deviation on 10. So I'll just resample from a population population with those parameter values."
   ]
  },
  {
   "cell_type": "code",
   "execution_count": 33,
   "metadata": {
    "collapsed": true
   },
   "outputs": [],
   "source": [
    "# Resampling based off my assumption on the population.\n",
    "resample = np.random.normal(loc = 100, scale = 10, size = 100)"
   ]
  },
  {
   "cell_type": "markdown",
   "metadata": {},
   "source": [
    "**But...Imagine you are not ok with assumptions.**"
   ]
  },
  {
   "cell_type": "markdown",
   "metadata": {},
   "source": [
    "###Bootstrapping\n",
    "\n",
    "An alternative is to take the sample you have and keep resampling from it. You can do this because the sample you have can be considered a very small discrete population. Sampling 'with replacement' is just a convenient way to treat the sample like it's a population and to sample from it in a way that reflects its shape (distribution and parameters).\n",
    "\n",
    "This is a reasonable thing to do because:\n",
    "\n",
    "1) The sample you have is the only data you have; and,\n",
    "\n",
    "2) If sampled correctly (truly random), it should reflect the population.\n",
    "\n"
   ]
  },
  {
   "cell_type": "code",
   "execution_count": 38,
   "metadata": {
    "collapsed": false
   },
   "outputs": [
    {
     "data": {
      "text/html": [
       "<div>\n",
       "<table border=\"1\" class=\"dataframe\">\n",
       "  <thead>\n",
       "    <tr style=\"text-align: right;\">\n",
       "      <th></th>\n",
       "      <th>data</th>\n",
       "      <th>sample_n</th>\n",
       "    </tr>\n",
       "  </thead>\n",
       "  <tbody>\n",
       "    <tr>\n",
       "      <th>0</th>\n",
       "      <td>107.509402</td>\n",
       "      <td>1</td>\n",
       "    </tr>\n",
       "    <tr>\n",
       "      <th>1</th>\n",
       "      <td>93.075055</td>\n",
       "      <td>1</td>\n",
       "    </tr>\n",
       "    <tr>\n",
       "      <th>2</th>\n",
       "      <td>92.910926</td>\n",
       "      <td>1</td>\n",
       "    </tr>\n",
       "    <tr>\n",
       "      <th>3</th>\n",
       "      <td>92.243227</td>\n",
       "      <td>1</td>\n",
       "    </tr>\n",
       "    <tr>\n",
       "      <th>4</th>\n",
       "      <td>101.388975</td>\n",
       "      <td>1</td>\n",
       "    </tr>\n",
       "    <tr>\n",
       "      <th>5</th>\n",
       "      <td>92.910926</td>\n",
       "      <td>1</td>\n",
       "    </tr>\n",
       "    <tr>\n",
       "      <th>6</th>\n",
       "      <td>101.388975</td>\n",
       "      <td>1</td>\n",
       "    </tr>\n",
       "    <tr>\n",
       "      <th>7</th>\n",
       "      <td>107.509402</td>\n",
       "      <td>1</td>\n",
       "    </tr>\n",
       "    <tr>\n",
       "      <th>8</th>\n",
       "      <td>111.420656</td>\n",
       "      <td>1</td>\n",
       "    </tr>\n",
       "    <tr>\n",
       "      <th>9</th>\n",
       "      <td>89.299727</td>\n",
       "      <td>1</td>\n",
       "    </tr>\n",
       "    <tr>\n",
       "      <th>0</th>\n",
       "      <td>86.800841</td>\n",
       "      <td>2</td>\n",
       "    </tr>\n",
       "    <tr>\n",
       "      <th>1</th>\n",
       "      <td>101.388975</td>\n",
       "      <td>2</td>\n",
       "    </tr>\n",
       "    <tr>\n",
       "      <th>2</th>\n",
       "      <td>93.075055</td>\n",
       "      <td>2</td>\n",
       "    </tr>\n",
       "    <tr>\n",
       "      <th>3</th>\n",
       "      <td>101.582127</td>\n",
       "      <td>2</td>\n",
       "    </tr>\n",
       "    <tr>\n",
       "      <th>4</th>\n",
       "      <td>86.800841</td>\n",
       "      <td>2</td>\n",
       "    </tr>\n",
       "    <tr>\n",
       "      <th>5</th>\n",
       "      <td>87.378829</td>\n",
       "      <td>2</td>\n",
       "    </tr>\n",
       "    <tr>\n",
       "      <th>6</th>\n",
       "      <td>99.365791</td>\n",
       "      <td>2</td>\n",
       "    </tr>\n",
       "    <tr>\n",
       "      <th>7</th>\n",
       "      <td>92.243227</td>\n",
       "      <td>2</td>\n",
       "    </tr>\n",
       "    <tr>\n",
       "      <th>8</th>\n",
       "      <td>107.509402</td>\n",
       "      <td>2</td>\n",
       "    </tr>\n",
       "    <tr>\n",
       "      <th>9</th>\n",
       "      <td>89.299727</td>\n",
       "      <td>2</td>\n",
       "    </tr>\n",
       "  </tbody>\n",
       "</table>\n",
       "</div>"
      ],
      "text/plain": [
       "         data  sample_n\n",
       "0  107.509402         1\n",
       "1   93.075055         1\n",
       "2   92.910926         1\n",
       "3   92.243227         1\n",
       "4  101.388975         1\n",
       "5   92.910926         1\n",
       "6  101.388975         1\n",
       "7  107.509402         1\n",
       "8  111.420656         1\n",
       "9   89.299727         1\n",
       "0   86.800841         2\n",
       "1  101.388975         2\n",
       "2   93.075055         2\n",
       "3  101.582127         2\n",
       "4   86.800841         2\n",
       "5   87.378829         2\n",
       "6   99.365791         2\n",
       "7   92.243227         2\n",
       "8  107.509402         2\n",
       "9   89.299727         2"
      ]
     },
     "execution_count": 38,
     "metadata": {},
     "output_type": "execute_result"
    }
   ],
   "source": [
    "sample = np.random.normal(loc = 100, scale = 10, size = 20)\n",
    "\n",
    "def bootstrap_Resampling(X, n=None, n_samples = 1):\n",
    "    '''\n",
    "    X = array to resample\n",
    "    n = length of resample\n",
    "    n_sampled = number of times to resample\n",
    "    '''    \n",
    "    for n_sample in np.arange(1,n_samples + 1):\n",
    "        if n == None:\n",
    "            n = len(X)\n",
    "\n",
    "        resample_indeces = np.floor(np.random.rand(n)*len(X)).astype(int)\n",
    "        resampled_data = X[resample_indeces]\n",
    "        resampled_data = pd.DataFrame({'data' : resampled_data, 'sample_n' : n_sample})\n",
    "\n",
    "        if n_sample == 1:\n",
    "            all_resampled_data = resampled_data\n",
    "        else:\n",
    "            all_resampled_data = all_resampled_data.append(resampled_data)\n",
    "    \n",
    "    return(all_resampled_data)\n",
    "    \n",
    "bootstrap_Resampling(sample, n = 10, n_samples = 2)\n"
   ]
  },
  {
   "cell_type": "markdown",
   "metadata": {},
   "source": [
    "###But why do I need to resample from the sample If I have all of the sample data? \n",
    "\n",
    "**The problem Bootstrapping is trying to solve***\n",
    "Remember when we said we're not comfortable making assumptions about the population? That means that we don't know what the population looks like and we aren't able to measure sampling error.\n",
    "\n",
    "**The solution**\n",
    "Alas, because of bootstrapping we are now treating our sample like a population so by resampling from it we can learn sampling error.\n",
    "\n",
    "###When is this most useful?? Well here is what wikipedia says:\n",
    "\n",
    "When the theoretical distribution of a statistic of interest is complicated or unknown. Since the bootstrapping procedure is distribution-independent it provides an indirect method to assess the properties of the distribution underlying the sample and the parameters of interest that are derived from this distribution.\n",
    "\n",
    "When the sample size is insufficient for straightforward statistical inference. If the underlying distribution is well-known, bootstrapping provides a way to account for the distortions caused by the specific sample that may not be fully representative of the population.\n",
    "\n",
    "When power calculations have to be performed, and a small pilot sample is available. Most power and sample size calculations are heavily dependent on the standard deviation of the statistic of interest. If the estimate used is incorrect, the required sample size will also be wrong. One method to get an impression of the variation of the statistic is to use a small pilot sample and perform bootstrapping on it to get impression of the variance.\n"
   ]
  },
  {
   "cell_type": "markdown",
   "metadata": {},
   "source": [
    "###Calculating Bootstrapped Confidence Interval"
   ]
  },
  {
   "cell_type": "code",
   "execution_count": null,
   "metadata": {
    "collapsed": true
   },
   "outputs": [],
   "source": [
    "np.random.normal(loc = 100, scale = 10, size = 20)\n",
    "cis = boot.ci( (x,y), statfunction=stats.linregress )"
   ]
  }
 ],
 "metadata": {
  "kernelspec": {
   "display_name": "Python 2",
   "language": "python",
   "name": "python2"
  },
  "language_info": {
   "codemirror_mode": {
    "name": "ipython",
    "version": 2
   },
   "file_extension": ".py",
   "mimetype": "text/x-python",
   "name": "python",
   "nbconvert_exporter": "python",
   "pygments_lexer": "ipython2",
   "version": "2.7.9"
  }
 },
 "nbformat": 4,
 "nbformat_minor": 0
}
